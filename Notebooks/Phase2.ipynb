{
 "cells": [
  {
   "cell_type": "markdown",
   "metadata": {},
   "source": [
    "# TOC\n",
    "\n",
    "- Import\n",
    "- Text proprocessing functions\n",
    "- Models\n",
    "    1. GloVe + Logistic\n",
    "    2. Glove + Random Forest\n",
    "    3. USE + Logistic\n",
    "    4. USE + Random Forest\n",
    "- Comparisons"
   ]
  },
  {
   "cell_type": "markdown",
   "metadata": {},
   "source": [
    "# Import"
   ]
  },
  {
   "cell_type": "markdown",
   "metadata": {},
   "source": [
    "## Libraries"
   ]
  },
  {
   "cell_type": "code",
   "execution_count": 2,
   "metadata": {},
   "outputs": [
    {
     "name": "stderr",
     "output_type": "stream",
     "text": [
      "[nltk_data] Downloading package punkt to /home/faculty/nltk_data...\n",
      "[nltk_data]   Package punkt is already up-to-date!\n",
      "[nltk_data] Downloading package stopwords to\n",
      "[nltk_data]     /home/faculty/nltk_data...\n",
      "[nltk_data]   Package stopwords is already up-to-date!\n"
     ]
    }
   ],
   "source": [
    "# import basics\n",
    "import pandas as pd\n",
    "import numpy as np\n",
    "\n",
    "# Text preprocessing\n",
    "import nltk.tokenize\n",
    "from nltk.tokenize import word_tokenize\n",
    "nltk.download('punkt')\n",
    "import contractions\n",
    "import string\n",
    "punc = string.punctuation\n",
    "from nltk.corpus import stopwords\n",
    "nltk.download('stopwords')\n",
    "STOP_WORDS = set(stopwords.words('english'))\n",
    "import spacy\n",
    "nlp = spacy.load(\"en_core_web_md\")\n",
    "import en_core_web_md\n",
    "nlp = en_core_web_md.load()\n",
    "    \n",
    "# Load the glove embeddings\n",
    "import flair\n",
    "from flair.data import Sentence\n",
    "from flair.embeddings import WordEmbeddings\n",
    "glove_embedding = WordEmbeddings('glove')\n",
    "embedding_size = glove_embedding.embedding_length\n",
    "\n",
    "# Load USE embeddings\n",
    "import tensorflow as tf\n",
    "import tensorflow_hub as hub\n",
    "module_url = \"https://tfhub.dev/google/universal-sentence-encoder/4\"\n",
    "model = hub.load(module_url)\n",
    "def embed(input):\n",
    "    return model(input)\n",
    "\n",
    "# DataPreprocessing\n",
    "from sklearn.pipeline import Pipeline\n",
    "from sklearn.model_selection import train_test_split\n",
    "\n",
    "# Import models\n",
    "from sklearn.linear_model import LogisticRegression\n",
    "from sklearn.ensemble import RandomForestClassifier\n",
    "\n",
    "# import evaluation\n",
    "from sklearn.metrics import accuracy_score,recall_score,precision_score,f1_score\n",
    "from sklearn.model_selection import cross_val_score\n",
    "from sklearn.metrics import confusion_matrix\n",
    "from sklearn.metrics import classification_report\n",
    "from sklearn.model_selection import GridSearchCV\n",
    "from sklearn.model_selection import RandomizedSearchCV\n",
    "\n",
    "# import visualisation\n",
    "import matplotlib.pyplot as plt\n",
    "import seaborn as sns"
   ]
  },
  {
   "cell_type": "markdown",
   "metadata": {},
   "source": [
    "## Data"
   ]
  },
  {
   "cell_type": "code",
   "execution_count": 21,
   "metadata": {},
   "outputs": [
    {
     "data": {
      "text/html": [
       "<div>\n",
       "<style scoped>\n",
       "    .dataframe tbody tr th:only-of-type {\n",
       "        vertical-align: middle;\n",
       "    }\n",
       "\n",
       "    .dataframe tbody tr th {\n",
       "        vertical-align: top;\n",
       "    }\n",
       "\n",
       "    .dataframe thead th {\n",
       "        text-align: right;\n",
       "    }\n",
       "</style>\n",
       "<table border=\"1\" class=\"dataframe\">\n",
       "  <thead>\n",
       "    <tr style=\"text-align: right;\">\n",
       "      <th></th>\n",
       "      <th>content_ps</th>\n",
       "      <th>topic_ps</th>\n",
       "      <th>type_re</th>\n",
       "      <th>topic_re</th>\n",
       "      <th>title_re</th>\n",
       "      <th>content_re</th>\n",
       "      <th>label</th>\n",
       "    </tr>\n",
       "  </thead>\n",
       "  <tbody>\n",
       "    <tr>\n",
       "      <th>0</th>\n",
       "      <td>Smart textiles business KYMIRA makes sportswea...</td>\n",
       "      <td>Planning</td>\n",
       "      <td>action plans</td>\n",
       "      <td>Digital Readiness</td>\n",
       "      <td>Creating an effective remote workforce</td>\n",
       "      <td>Remote working is nothing new, but before coro...</td>\n",
       "      <td>0.0</td>\n",
       "    </tr>\n",
       "    <tr>\n",
       "      <th>1</th>\n",
       "      <td>Smart textiles business KYMIRA makes sportswea...</td>\n",
       "      <td>Planning</td>\n",
       "      <td>action plans</td>\n",
       "      <td>People &amp; Team</td>\n",
       "      <td>Improve the way you performance manage staff</td>\n",
       "      <td>At the heart of it, performance management inv...</td>\n",
       "      <td>0.0</td>\n",
       "    </tr>\n",
       "    <tr>\n",
       "      <th>2</th>\n",
       "      <td>Smart textiles business KYMIRA makes sportswea...</td>\n",
       "      <td>Planning</td>\n",
       "      <td>action plans</td>\n",
       "      <td>Planning</td>\n",
       "      <td>Making an informed decision about investing in...</td>\n",
       "      <td>Investing is a big decision and many business ...</td>\n",
       "      <td>1.0</td>\n",
       "    </tr>\n",
       "    <tr>\n",
       "      <th>3</th>\n",
       "      <td>Smart textiles business KYMIRA makes sportswea...</td>\n",
       "      <td>Planning</td>\n",
       "      <td>action plans</td>\n",
       "      <td>Planning</td>\n",
       "      <td>Predict future trends in your market</td>\n",
       "      <td>Market disruptors, new technology and cultural...</td>\n",
       "      <td>1.0</td>\n",
       "    </tr>\n",
       "    <tr>\n",
       "      <th>4</th>\n",
       "      <td>Smart textiles business KYMIRA makes sportswea...</td>\n",
       "      <td>Planning</td>\n",
       "      <td>action plans</td>\n",
       "      <td>Sales &amp; Growth</td>\n",
       "      <td>Identifying growth opportunities in your curre...</td>\n",
       "      <td>Starting at the bottom of your sales funnel is...</td>\n",
       "      <td>1.0</td>\n",
       "    </tr>\n",
       "  </tbody>\n",
       "</table>\n",
       "</div>"
      ],
      "text/plain": [
       "                                          content_ps  topic_ps       type_re  \\\n",
       "0  Smart textiles business KYMIRA makes sportswea...  Planning  action plans   \n",
       "1  Smart textiles business KYMIRA makes sportswea...  Planning  action plans   \n",
       "2  Smart textiles business KYMIRA makes sportswea...  Planning  action plans   \n",
       "3  Smart textiles business KYMIRA makes sportswea...  Planning  action plans   \n",
       "4  Smart textiles business KYMIRA makes sportswea...  Planning  action plans   \n",
       "\n",
       "             topic_re                                           title_re  \\\n",
       "0  Digital Readiness              Creating an effective remote workforce   \n",
       "1       People & Team       Improve the way you performance manage staff   \n",
       "2            Planning  Making an informed decision about investing in...   \n",
       "3            Planning               Predict future trends in your market   \n",
       "4      Sales & Growth  Identifying growth opportunities in your curre...   \n",
       "\n",
       "                                          content_re  label  \n",
       "0  Remote working is nothing new, but before coro...    0.0  \n",
       "1  At the heart of it, performance management inv...    0.0  \n",
       "2  Investing is a big decision and many business ...    1.0  \n",
       "3  Market disruptors, new technology and cultural...    1.0  \n",
       "4  Starting at the bottom of your sales funnel is...    1.0  "
      ]
     },
     "execution_count": 21,
     "metadata": {},
     "output_type": "execute_result"
    }
   ],
   "source": [
    "# /project/Phase 2/data/final_data.csv\n",
    "df_raw = pd.read_csv('/project/Phase 2/data/final_data.csv',index_col=0)\n",
    "df_raw.head()"
   ]
  },
  {
   "cell_type": "markdown",
   "metadata": {},
   "source": [
    "# Define text pre-processing functions"
   ]
  },
  {
   "cell_type": "markdown",
   "metadata": {},
   "source": [
    "## Functions for GloVe Embedding"
   ]
  },
  {
   "cell_type": "code",
   "execution_count": 18,
   "metadata": {},
   "outputs": [],
   "source": [
    "def tokenisation(s):\n",
    "    return word_tokenize(s.lower())\n",
    "\n",
    "def contract(s):\n",
    "    return list(map(lambda w: contractions.fix(w),s))\n",
    "\n",
    "def puntuations(s):\n",
    "    return [w for w in s if w not in punc]\n",
    "\n",
    "def stopwords_rm(s):\n",
    "    return [w for w in s if w not in STOP_WORDS]\n",
    "\n",
    "def lemm(s):\n",
    "    return [token.lemma_ for token  in nlp(' '.join(s))]\n",
    "\n",
    "def pipe(s):\n",
    "    return ' '.join(lemm(stopwords_rm(puntuations(contract(tokenisation(s))))))\n",
    "\n",
    "def apply_pipeline(df):\n",
    "    cols = ['content_ps','content_re']\n",
    "    for col in cols:\n",
    "        df[col] = df[col].apply(lambda row: pipe(row))\n",
    "    return df\n",
    "\n",
    "def word_embedding(s):\n",
    "    sentence = Sentence(s)\n",
    "    glove_embedding.embed(sentence)\n",
    "    sentence_matrix = sum([np.matrix(token.embedding) for token in sentence])/len(sentence)\n",
    "    return np.array(sentence_matrix).ravel()\n",
    "\n",
    "def get_X_Y_glove(df):\n",
    "    df2 = df.copy()\n",
    "    cols = ['content_ps','content_re']\n",
    "    for col in cols:\n",
    "        df2[col] = df[col].apply(word_embedding)\n",
    "    ps = pd.DataFrame(df2['content_ps'].to_list())\n",
    "    re = pd.DataFrame(df2['content_re'].to_list())\n",
    "\n",
    "    X = pd.concat([ps,re],axis=1)\n",
    "    y = df['label']\n",
    "    \n",
    "    return X, y"
   ]
  },
  {
   "cell_type": "markdown",
   "metadata": {},
   "source": [
    "## Functions for USE"
   ]
  },
  {
   "cell_type": "code",
   "execution_count": 19,
   "metadata": {},
   "outputs": [],
   "source": [
    "def get_X_Y_use(df):\n",
    "    \n",
    "    ps = pd.DataFrame(np.array(embed(df['content_ps'])).tolist())\n",
    "    re = pd.DataFrame(np.array(embed(df['content_re'])).tolist())\n",
    "\n",
    "    X = pd.concat([ps,re],axis=1)\n",
    "    y = df['label']\n",
    "    \n",
    "    return X, y"
   ]
  },
  {
   "cell_type": "markdown",
   "metadata": {},
   "source": [
    "# Models"
   ]
  },
  {
   "cell_type": "markdown",
   "metadata": {},
   "source": [
    "## Glove"
   ]
  },
  {
   "cell_type": "code",
   "execution_count": 28,
   "metadata": {},
   "outputs": [],
   "source": [
    "X_glove, y_glove = get_X_Y_glove(df_raw)"
   ]
  },
  {
   "cell_type": "code",
   "execution_count": 29,
   "metadata": {},
   "outputs": [],
   "source": [
    "X_glove_train, X_glove_test, y_glove_train, y_glove_test = train_test_split(X_glove, y_glove, random_state=42, train_size=0.8, stratify=y_glove)"
   ]
  },
  {
   "cell_type": "markdown",
   "metadata": {},
   "source": [
    "## 1. GloVe + Logistic Regression"
   ]
  },
  {
   "cell_type": "code",
   "execution_count": 50,
   "metadata": {
    "scrolled": true
   },
   "outputs": [
    {
     "name": "stdout",
     "output_type": "stream",
     "text": [
      "Model2's result on test set:\n",
      "The Accuracy score: 0.59\n",
      "The F1-score score: 0.59\n",
      "----------------------------------------------------------------------------------------------------\n",
      "Model2's hyperparameters:\n",
      "{'C': 1.0, 'class_weight': 'balanced', 'dual': False, 'fit_intercept': True, 'intercept_scaling': 1, 'l1_ratio': None, 'max_iter': 100, 'multi_class': 'auto', 'n_jobs': None, 'penalty': 'l2', 'random_state': 42, 'solver': 'lbfgs', 'tol': 0.0001, 'verbose': 0, 'warm_start': False}\n"
     ]
    },
    {
     "name": "stderr",
     "output_type": "stream",
     "text": [
      "/opt/anaconda/envs/Python3/lib/python3.8/site-packages/sklearn/linear_model/_logistic.py:763: ConvergenceWarning: lbfgs failed to converge (status=1):\n",
      "STOP: TOTAL NO. of ITERATIONS REACHED LIMIT.\n",
      "\n",
      "Increase the number of iterations (max_iter) or scale the data as shown in:\n",
      "    https://scikit-learn.org/stable/modules/preprocessing.html\n",
      "Please also refer to the documentation for alternative solver options:\n",
      "    https://scikit-learn.org/stable/modules/linear_model.html#logistic-regression\n",
      "  n_iter_i = _check_optimize_result(\n"
     ]
    }
   ],
   "source": [
    "model1 = LogisticRegression(class_weight='balanced', random_state=42)\n",
    "model1.fit(X_glove_train, y_glove_train)\n",
    "\n",
    "model1_pred = model1.predict(X_glove_test)\n",
    "model1_accuracy = accuracy_score(model1_pred,y_glove_test)\n",
    "model1_f1 = f1_score(model1_pred,y_glove_test,average='weighted')\n",
    "\n",
    "print('Model2\\'s result on test set:')\n",
    "print('The Accuracy score: {:.2f}'.format(model1_accuracy))\n",
    "print('The F1-score score: {:.2f}'.format(model1_f1))\n",
    "\n",
    "print('-'*100)\n",
    "print('Model2\\'s hyperparameters:')\n",
    "print(model1.get_params(deep=True))"
   ]
  },
  {
   "cell_type": "markdown",
   "metadata": {},
   "source": [
    "## 2. GloVe + Random Forest"
   ]
  },
  {
   "cell_type": "code",
   "execution_count": 51,
   "metadata": {},
   "outputs": [
    {
     "name": "stdout",
     "output_type": "stream",
     "text": [
      "Model2's result on test set:\n",
      "The Accuracy score: 0.72\n",
      "The F1-score score: 0.72\n",
      "----------------------------------------------------------------------------------------------------\n",
      "Model2's hyperparameters:\n",
      "{'bootstrap': True, 'ccp_alpha': 0.0, 'class_weight': 'balanced', 'criterion': 'gini', 'max_depth': None, 'max_features': 'auto', 'max_leaf_nodes': None, 'max_samples': None, 'min_impurity_decrease': 0.0, 'min_impurity_split': None, 'min_samples_leaf': 1, 'min_samples_split': 2, 'min_weight_fraction_leaf': 0.0, 'n_estimators': 100, 'n_jobs': None, 'oob_score': False, 'random_state': 42, 'verbose': 0, 'warm_start': False}\n"
     ]
    }
   ],
   "source": [
    "model2 = RandomForestClassifier(class_weight='balanced', random_state=42)\n",
    "model2.fit(X_glove_train, y_glove_train)\n",
    "\n",
    "model2_pred = model2.predict(X_glove_test)\n",
    "model2_accuracy = accuracy_score(model2_pred,y_glove_test)\n",
    "model2_f1 = f1_score(model2_pred,y_glove_test,average='weighted')\n",
    "\n",
    "print('Model2\\'s result on test set:')\n",
    "print('The Accuracy score: {:.2f}'.format(model2_accuracy))\n",
    "print('The F1-score score: {:.2f}'.format(model2_f1))\n",
    "\n",
    "print('-'*100)\n",
    "print('Model2\\'s hyperparameters:')\n",
    "print(model2.get_params(deep=True))"
   ]
  },
  {
   "cell_type": "markdown",
   "metadata": {},
   "source": [
    "## USE"
   ]
  },
  {
   "cell_type": "code",
   "execution_count": 30,
   "metadata": {},
   "outputs": [],
   "source": [
    "X_use, y_use = get_X_Y_use(df_raw)"
   ]
  },
  {
   "cell_type": "code",
   "execution_count": 31,
   "metadata": {},
   "outputs": [],
   "source": [
    "X_use_train, X_use_test, y_use_train, y_use_test = train_test_split(X_use, y_use, random_state=42, train_size=0.8, stratify=y_use)"
   ]
  },
  {
   "cell_type": "markdown",
   "metadata": {},
   "source": [
    "## 3. USE + Logistic Regression"
   ]
  },
  {
   "cell_type": "code",
   "execution_count": 52,
   "metadata": {},
   "outputs": [
    {
     "name": "stdout",
     "output_type": "stream",
     "text": [
      "Model3's result on test set:\n",
      "The Accuracy score: 0.55\n",
      "The F1-score score: 0.55\n",
      "----------------------------------------------------------------------------------------------------\n",
      "Model3's hyperparameters:\n",
      "{'C': 1.0, 'class_weight': 'balanced', 'dual': False, 'fit_intercept': True, 'intercept_scaling': 1, 'l1_ratio': None, 'max_iter': 100, 'multi_class': 'auto', 'n_jobs': None, 'penalty': 'l2', 'random_state': 42, 'solver': 'lbfgs', 'tol': 0.0001, 'verbose': 0, 'warm_start': False}\n"
     ]
    }
   ],
   "source": [
    "model3 = LogisticRegression(class_weight='balanced', random_state=42)\n",
    "model3.fit(X_use_train, y_use_train)\n",
    "\n",
    "model3_pred = model3.predict(X_use_test)\n",
    "model3_accuracy = accuracy_score(model3_pred,y_glove_test)\n",
    "model3_f1 = f1_score(model3_pred,y_glove_test,average='weighted')\n",
    "\n",
    "print('Model3\\'s result on test set:')\n",
    "print('The Accuracy score: {:.2f}'.format(model3_accuracy))\n",
    "print('The F1-score score: {:.2f}'.format(model3_f1))\n",
    "\n",
    "print('-'*100)\n",
    "print('Model3\\'s hyperparameters:')\n",
    "print(model3.get_params(deep=True))"
   ]
  },
  {
   "cell_type": "markdown",
   "metadata": {},
   "source": [
    "## 4. USE + Random Forest"
   ]
  },
  {
   "cell_type": "code",
   "execution_count": 53,
   "metadata": {},
   "outputs": [
    {
     "name": "stdout",
     "output_type": "stream",
     "text": [
      "Model4's result on test set:\n",
      "The Accuracy score: 0.70\n",
      "The F1-score score: 0.71\n",
      "----------------------------------------------------------------------------------------------------\n",
      "Model4's hyperparameters:\n",
      "{'bootstrap': True, 'ccp_alpha': 0.0, 'class_weight': 'balanced', 'criterion': 'gini', 'max_depth': None, 'max_features': 'auto', 'max_leaf_nodes': None, 'max_samples': None, 'min_impurity_decrease': 0.0, 'min_impurity_split': None, 'min_samples_leaf': 1, 'min_samples_split': 2, 'min_weight_fraction_leaf': 0.0, 'n_estimators': 100, 'n_jobs': None, 'oob_score': False, 'random_state': 42, 'verbose': 0, 'warm_start': False}\n"
     ]
    }
   ],
   "source": [
    "model4 = RandomForestClassifier(class_weight='balanced', random_state=42)\n",
    "model4.fit(X_use_train, y_use_train)\n",
    "\n",
    "model4_pred = model4.predict(X_use_test)\n",
    "model4_accuracy = accuracy_score(model4_pred,y_glove_test)\n",
    "model4_f1 = f1_score(model4_pred,y_glove_test,average='weighted')\n",
    "\n",
    "print('Model4\\'s result on test set:')\n",
    "print('The Accuracy score: {:.2f}'.format(model4_accuracy))\n",
    "print('The F1-score score: {:.2f}'.format(model4_f1))\n",
    "\n",
    "print('-'*100)\n",
    "print('Model4\\'s hyperparameters:')\n",
    "print(model4.get_params(deep=True))"
   ]
  },
  {
   "cell_type": "markdown",
   "metadata": {},
   "source": [
    "## Comparison"
   ]
  },
  {
   "cell_type": "code",
   "execution_count": 68,
   "metadata": {},
   "outputs": [],
   "source": [
    "result = {\n",
    "    'Model 1': {'Accuracy':model1_accuracy,'F1':model1_f1},\n",
    "    'Model 2': {'Accuracy':model2_accuracy,'F1':model2_f1},\n",
    "    'Model 3': {'Accuracy':model3_accuracy,'F1':model3_f1},\n",
    "    'Model 4': {'Accuracy':model4_accuracy,'F1':model4_f1}\n",
    "}\n",
    "\n",
    "df_result = pd.DataFrame(result).T"
   ]
  },
  {
   "cell_type": "code",
   "execution_count": 125,
   "metadata": {},
   "outputs": [
    {
     "data": {
      "text/html": [
       "<div>\n",
       "<style scoped>\n",
       "    .dataframe tbody tr th:only-of-type {\n",
       "        vertical-align: middle;\n",
       "    }\n",
       "\n",
       "    .dataframe tbody tr th {\n",
       "        vertical-align: top;\n",
       "    }\n",
       "\n",
       "    .dataframe thead th {\n",
       "        text-align: right;\n",
       "    }\n",
       "</style>\n",
       "<table border=\"1\" class=\"dataframe\">\n",
       "  <thead>\n",
       "    <tr style=\"text-align: right;\">\n",
       "      <th></th>\n",
       "      <th>Accuracy</th>\n",
       "      <th>F1</th>\n",
       "    </tr>\n",
       "  </thead>\n",
       "  <tbody>\n",
       "    <tr>\n",
       "      <th>Model 1</th>\n",
       "      <td>0.591716</td>\n",
       "      <td>0.590507</td>\n",
       "    </tr>\n",
       "    <tr>\n",
       "      <th>Model 2</th>\n",
       "      <td>0.715976</td>\n",
       "      <td>0.721431</td>\n",
       "    </tr>\n",
       "    <tr>\n",
       "      <th>Model 3</th>\n",
       "      <td>0.547337</td>\n",
       "      <td>0.545781</td>\n",
       "    </tr>\n",
       "    <tr>\n",
       "      <th>Model 4</th>\n",
       "      <td>0.704142</td>\n",
       "      <td>0.707797</td>\n",
       "    </tr>\n",
       "  </tbody>\n",
       "</table>\n",
       "</div>"
      ],
      "text/plain": [
       "         Accuracy        F1\n",
       "Model 1  0.591716  0.590507\n",
       "Model 2  0.715976  0.721431\n",
       "Model 3  0.547337  0.545781\n",
       "Model 4  0.704142  0.707797"
      ]
     },
     "execution_count": 125,
     "metadata": {},
     "output_type": "execute_result"
    }
   ],
   "source": [
    "df_result"
   ]
  },
  {
   "cell_type": "code",
   "execution_count": 97,
   "metadata": {},
   "outputs": [
    {
     "data": {
      "text/plain": [
       "<Figure size 432x288 with 0 Axes>"
      ]
     },
     "metadata": {},
     "output_type": "display_data"
    },
    {
     "data": {
      "image/png": "[encoded data removed]",
      "text/plain": [
       "<Figure size 720x360 with 1 Axes>"
      ]
     },
     "metadata": {
      "needs_background": "light"
     },
     "output_type": "display_data"
    }
   ],
   "source": [
    "plt.figure()\n",
    "\n",
    "df_result.plot(kind='bar', figsize=(10,5), zorder=2)\n",
    "\n",
    "plt.title('Models comparisons in Accuracy and F1 Score')\n",
    "plt.xticks(rotation=0)\n",
    "plt.grid(zorder=0)\n",
    "\n",
    "plt.show()"
   ]
  },
  {
   "cell_type": "markdown",
   "metadata": {},
   "source": [
    "# Fine-tuning"
   ]
  },
  {
   "cell_type": "markdown",
   "metadata": {},
   "source": [
    "## Model 2"
   ]
  },
  {
   "cell_type": "code",
   "execution_count": 98,
   "metadata": {
    "scrolled": true
   },
   "outputs": [
    {
     "name": "stdout",
     "output_type": "stream",
     "text": [
      "{'bootstrap': True, 'ccp_alpha': 0.0, 'class_weight': 'balanced', 'criterion': 'gini', 'max_depth': None, 'max_features': 'auto', 'max_leaf_nodes': None, 'max_samples': None, 'min_impurity_decrease': 0.0, 'min_impurity_split': None, 'min_samples_leaf': 1, 'min_samples_split': 2, 'min_weight_fraction_leaf': 0.0, 'n_estimators': 100, 'n_jobs': None, 'oob_score': False, 'random_state': 42, 'verbose': 0, 'warm_start': False}\n"
     ]
    }
   ],
   "source": [
    "print(model2.get_params(deep=True))"
   ]
  },
  {
   "cell_type": "markdown",
   "metadata": {},
   "source": [
    "### Randomised Search"
   ]
  },
  {
   "cell_type": "code",
   "execution_count": 113,
   "metadata": {},
   "outputs": [
    {
     "name": "stdout",
     "output_type": "stream",
     "text": [
      "{'n_estimators': [200, 400, 600, 800, 1000, 1200, 1400, 1600, 1800, 2000], 'max_features': ['auto', 'sqrt'], 'max_depth': [10, 20, 30, 40, 50, 60, 70, 80, 90, 100, 110, None], 'min_samples_split': [2, 5, 10], 'min_samples_leaf': [1, 2, 4], 'bootstrap': [True, False]}\n"
     ]
    }
   ],
   "source": [
    "# Number of trees in random forest\n",
    "n_estimators = [int(x) for x in np.linspace(start = 200, stop = 2000, num = 10)]\n",
    "# Number of features to consider at every split\n",
    "max_features = ['auto', 'sqrt']\n",
    "# Maximum number of levels in tree\n",
    "max_depth = [int(x) for x in np.linspace(10, 110, num = 11)]\n",
    "max_depth.append(None)\n",
    "# Minimum number of samples required to split a node\n",
    "min_samples_split = [2, 5, 10]\n",
    "# Minimum number of samples required at each leaf node\n",
    "min_samples_leaf = [1, 2, 4]\n",
    "# Method of selecting samples for training each tree\n",
    "bootstrap = [True, False]\n",
    "# Create the random grid\n",
    "random_grid = {'n_estimators': n_estimators,\n",
    "               'max_features': max_features,\n",
    "               'max_depth': max_depth,\n",
    "               'min_samples_split': min_samples_split,\n",
    "               'min_samples_leaf': min_samples_leaf,\n",
    "               'bootstrap': bootstrap}\n",
    "print(random_grid)"
   ]
  },
  {
   "cell_type": "code",
   "execution_count": 114,
   "metadata": {},
   "outputs": [
    {
     "name": "stdout",
     "output_type": "stream",
     "text": [
      "Fitting 5 folds for each of 100 candidates, totalling 500 fits\n"
     ]
    }
   ],
   "source": [
    "# Use the random grid to search for best hyperparameters\n",
    "# First create the base model to tune\n",
    "model2_rf = RandomForestClassifier(random_state=42, class_weight='balanced')\n",
    "# Random search of parameters, using 3 fold cross validation, \n",
    "# search across 100 different combinations, and use all available cores\n",
    "model2_rf_random = RandomizedSearchCV(estimator = model2_rf, param_distributions = random_grid, n_iter = 100, cv = 5, verbose=2, random_state=42, n_jobs = -1, scoring='f1_weighted')\n",
    "# Fit the random search model\n",
    "model2_random = model2_rf_random.fit(X_glove_train, y_glove_train)"
   ]
  },
  {
   "cell_type": "code",
   "execution_count": 124,
   "metadata": {
    "scrolled": true
   },
   "outputs": [
    {
     "name": "stdout",
     "output_type": "stream",
     "text": [
      "Model2's Randomised Search Result:\n",
      "----------------------------------------------------------------------------------------------------\n",
      "\n",
      "Test set:\n",
      "Test accuracy 0.75\n",
      "Test f1 score 0.72\n",
      "----------------------------------------------------------------------------------------------------\n",
      "The best parameters: {'n_estimators': 200, 'min_samples_split': 5, 'min_samples_leaf': 4, 'max_features': 'auto', 'max_depth': 100, 'bootstrap': False}\n"
     ]
    }
   ],
   "source": [
    "print('Model2\\'s Randomised Search Result:')\n",
    "\n",
    "model2_random_accuracy = accuracy_score(model2_random.predict(X_glove_test),y_glove_test)\n",
    "model2_random_f1 = f1_score(model2_random.predict(X_glove_test),y_glove_test)\n",
    "\n",
    "print('-'*100)\n",
    "\n",
    "print('\\nTest set:')\n",
    "print('Test accuracy {:.2f}'.format(model2_random_accuracy))\n",
    "print('Test f1 score {:.2f}'.format(model2_random_f1))\n",
    "\n",
    "print('-'*100)\n",
    "print(\"The best parameters: %s\" % (model2_random.best_params_))"
   ]
  },
  {
   "cell_type": "markdown",
   "metadata": {},
   "source": [
    "### Grid Search"
   ]
  },
  {
   "cell_type": "code",
   "execution_count": 108,
   "metadata": {},
   "outputs": [
    {
     "name": "stdout",
     "output_type": "stream",
     "text": [
      "Fitting 5 folds for each of 81 candidates, totalling 405 fits\n"
     ]
    }
   ],
   "source": [
    "# Create the parameter grid based on the results of random search \n",
    "param_grid = {\n",
    "    'bootstrap': [False],\n",
    "    'max_depth': [95,100,105],\n",
    "    'max_features': ['auto'],\n",
    "    'min_samples_leaf': [3,4,5],\n",
    "    'min_samples_split': [4,5,6],\n",
    "    'n_estimators': [195,200,205]\n",
    "}\n",
    "\n",
    "# Create a based model\n",
    "model2_rf = RandomForestClassifier(random_state=42, class_weight='balanced')\n",
    "\n",
    "# Instantiate the grid search model\n",
    "model2_rf_grid = GridSearchCV(estimator = model2_rf, param_grid = param_grid, \n",
    "                          cv = 5, n_jobs = -1, verbose = 2, scoring='f1_weighted')\n",
    "\n",
    "model2_grid = model2_rf_grid.fit(X_glove_train, y_glove_train)"
   ]
  },
  {
   "cell_type": "code",
   "execution_count": 123,
   "metadata": {},
   "outputs": [
    {
     "name": "stdout",
     "output_type": "stream",
     "text": [
      "Model2's Grid Search Result:\n",
      "----------------------------------------------------------------------------------------------------\n",
      "\n",
      "Test set:\n",
      "Test accuracy 0.76\n",
      "Test f1 score 0.72\n",
      "----------------------------------------------------------------------------------------------------\n",
      "The best parameters: {'bootstrap': False, 'max_depth': 95, 'max_features': 'auto', 'min_samples_leaf': 4, 'min_samples_split': 4, 'n_estimators': 195}\n"
     ]
    }
   ],
   "source": [
    "print('Model2\\'s Grid Search Result:')\n",
    "\n",
    "model2_grid_accuracy = accuracy_score(model2_grid.predict(X_glove_test),y_glove_test)\n",
    "model2_grid_f1 = f1_score(model2_grid.predict(X_glove_test),y_glove_test)\n",
    "\n",
    "print('-'*100)\n",
    "\n",
    "print('\\nTest set:')\n",
    "print('Test accuracy {:.2f}'.format(model2_grid_accuracy))\n",
    "print('Test f1 score {:.2f}'.format(model2_grid_f1))\n",
    "\n",
    "print('-'*100)\n",
    "print(\"The best parameters: %s\" % (model2_grid.best_params_))"
   ]
  },
  {
   "cell_type": "markdown",
   "metadata": {},
   "source": [
    "## Model 4"
   ]
  },
  {
   "cell_type": "code",
   "execution_count": 116,
   "metadata": {
    "scrolled": true
   },
   "outputs": [
    {
     "name": "stdout",
     "output_type": "stream",
     "text": [
      "{'bootstrap': True, 'ccp_alpha': 0.0, 'class_weight': 'balanced', 'criterion': 'gini', 'max_depth': None, 'max_features': 'auto', 'max_leaf_nodes': None, 'max_samples': None, 'min_impurity_decrease': 0.0, 'min_impurity_split': None, 'min_samples_leaf': 1, 'min_samples_split': 2, 'min_weight_fraction_leaf': 0.0, 'n_estimators': 100, 'n_jobs': None, 'oob_score': False, 'random_state': 42, 'verbose': 0, 'warm_start': False}\n"
     ]
    }
   ],
   "source": [
    "print(model4.get_params(deep=True))"
   ]
  },
  {
   "cell_type": "markdown",
   "metadata": {},
   "source": [
    "### Randomised Search"
   ]
  },
  {
   "cell_type": "code",
   "execution_count": 117,
   "metadata": {},
   "outputs": [
    {
     "name": "stdout",
     "output_type": "stream",
     "text": [
      "{'n_estimators': [200, 400, 600, 800, 1000, 1200, 1400, 1600, 1800, 2000], 'max_features': ['auto', 'sqrt'], 'max_depth': [10, 20, 30, 40, 50, 60, 70, 80, 90, 100, 110, None], 'min_samples_split': [2, 5, 10], 'min_samples_leaf': [1, 2, 4], 'bootstrap': [True, False]}\n"
     ]
    }
   ],
   "source": [
    "# Number of trees in random forest\n",
    "n_estimators = [int(x) for x in np.linspace(start = 200, stop = 2000, num = 10)]\n",
    "# Number of features to consider at every split\n",
    "max_features = ['auto', 'sqrt']\n",
    "# Maximum number of levels in tree\n",
    "max_depth = [int(x) for x in np.linspace(10, 110, num = 11)]\n",
    "max_depth.append(None)\n",
    "# Minimum number of samples required to split a node\n",
    "min_samples_split = [2, 5, 10]\n",
    "# Minimum number of samples required at each leaf node\n",
    "min_samples_leaf = [1, 2, 4]\n",
    "# Method of selecting samples for training each tree\n",
    "bootstrap = [True, False]\n",
    "# Create the random grid\n",
    "random_grid = {'n_estimators': n_estimators,\n",
    "               'max_features': max_features,\n",
    "               'max_depth': max_depth,\n",
    "               'min_samples_split': min_samples_split,\n",
    "               'min_samples_leaf': min_samples_leaf,\n",
    "               'bootstrap': bootstrap}\n",
    "print(random_grid)"
   ]
  },
  {
   "cell_type": "code",
   "execution_count": 118,
   "metadata": {},
   "outputs": [
    {
     "name": "stdout",
     "output_type": "stream",
     "text": [
      "Fitting 5 folds for each of 100 candidates, totalling 500 fits\n"
     ]
    }
   ],
   "source": [
    "# Use the random grid to search for best hyperparameters\n",
    "# First create the base model to tune\n",
    "model4_rf = RandomForestClassifier(random_state=42, class_weight='balanced')\n",
    "# Random search of parameters, using 3 fold cross validation, \n",
    "# search across 100 different combinations, and use all available cores\n",
    "model4_rf_random = RandomizedSearchCV(estimator = model4_rf, param_distributions = random_grid, n_iter = 100, cv = 5, verbose=2, random_state=42, n_jobs = -1, scoring='f1_weighted')\n",
    "# Fit the random search model\n",
    "model4_random = model4_rf_random.fit(X_use_train, y_use_train)"
   ]
  },
  {
   "cell_type": "code",
   "execution_count": 122,
   "metadata": {},
   "outputs": [
    {
     "name": "stdout",
     "output_type": "stream",
     "text": [
      "Model2's Randomised Search Result:\n",
      "----------------------------------------------------------------------------------------------------\n",
      "\n",
      "Test set:\n",
      "Test accuracy 0.77\n",
      "Test f1 score 0.74\n",
      "----------------------------------------------------------------------------------------------------\n",
      "The best parameters: {'n_estimators': 1600, 'min_samples_split': 5, 'min_samples_leaf': 2, 'max_features': 'sqrt', 'max_depth': 10, 'bootstrap': False}\n"
     ]
    }
   ],
   "source": [
    "print('Model2\\'s Randomised Search Result:')\n",
    "\n",
    "model4_random_accuracy = accuracy_score(model4_random.predict(X_use_test),y_use_test)\n",
    "model4_random_f1 = f1_score(model4_random.predict(X_use_test),y_use_test)\n",
    "\n",
    "print('-'*100)\n",
    "\n",
    "print('\\nTest set:')\n",
    "print('Test accuracy {:.2f}'.format(model4_random_accuracy))\n",
    "print('Test f1 score {:.2f}'.format(model4_random_f1))\n",
    "\n",
    "print('-'*100)\n",
    "print(\"The best parameters: %s\" % (model4_random.best_params_))"
   ]
  },
  {
   "cell_type": "markdown",
   "metadata": {},
   "source": [
    "### Grid Search"
   ]
  },
  {
   "cell_type": "code",
   "execution_count": 120,
   "metadata": {
    "scrolled": true
   },
   "outputs": [
    {
     "name": "stdout",
     "output_type": "stream",
     "text": [
      "Fitting 5 folds for each of 81 candidates, totalling 405 fits\n"
     ]
    }
   ],
   "source": [
    "# Create the parameter grid based on the results of random search \n",
    "param_grid = {\n",
    "    'bootstrap': [False],\n",
    "    'max_depth': [9,10,11],\n",
    "    'max_features': ['sqrt'],\n",
    "    'min_samples_leaf': [1,2,3],\n",
    "    'min_samples_split': [4,5,6],\n",
    "    'n_estimators': [1590,1600,1610]\n",
    "}\n",
    "\n",
    "# Create a based model\n",
    "model4_rf = RandomForestClassifier(random_state=42, class_weight='balanced')\n",
    "\n",
    "# Instantiate the grid search model\n",
    "model4_rf_grid = GridSearchCV(estimator = rf, param_grid = param_grid, \n",
    "                          cv = 5, n_jobs = -1, verbose = 2, scoring='f1_weighted')\n",
    "\n",
    "model4_grid = model4_rf_grid.fit(X_use_train, y_use_train)"
   ]
  },
  {
   "cell_type": "code",
   "execution_count": 121,
   "metadata": {},
   "outputs": [
    {
     "name": "stdout",
     "output_type": "stream",
     "text": [
      "Model2's Grid Search Result:\n",
      "----------------------------------------------------------------------------------------------------\n",
      "\n",
      "Test set:\n",
      "Test accuracy 0.77\n",
      "Test f1 score 0.74\n",
      "----------------------------------------------------------------------------------------------------\n",
      "The best parameters: {'bootstrap': False, 'max_depth': 10, 'max_features': 'sqrt', 'min_samples_leaf': 2, 'min_samples_split': 5, 'n_estimators': 1590}\n"
     ]
    }
   ],
   "source": [
    "print('Model2\\'s Grid Search Result:')\n",
    "\n",
    "model4_grid_accuracy = accuracy_score(model4_grid.predict(X_use_test),y_use_test)\n",
    "model4_grid_f1 = f1_score(model4_grid.predict(X_use_test),y_use_test)\n",
    "\n",
    "print('-'*100)\n",
    "\n",
    "print('\\nTest set:')\n",
    "print('Test accuracy {:.2f}'.format(model4_grid_accuracy))\n",
    "print('Test f1 score {:.2f}'.format(model4_grid_f1))\n",
    "\n",
    "print('-'*100)\n",
    "print(\"The best parameters: %s\" % (model4_grid.best_params_))"
   ]
  },
  {
   "cell_type": "code",
   "execution_count": null,
   "metadata": {},
   "outputs": [],
   "source": []
  }
 ],
 "metadata": {
  "kernelspec": {
   "display_name": "Python [conda env:Python3] *",
   "language": "python",
   "name": "conda-env-Python3-py"
  },
  "language_info": {
   "codemirror_mode": {
    "name": "ipython",
    "version": 3
   },
   "file_extension": ".py",
   "mimetype": "text/x-python",
   "name": "python",
   "nbconvert_exporter": "python",
   "pygments_lexer": "ipython3",
   "version": "3.8.2"
  }
 },
 "nbformat": 4,
 "nbformat_minor": 2
}
